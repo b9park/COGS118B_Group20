{
 "cells": [
  {
   "cell_type": "markdown",
   "metadata": {},
   "source": [
    "# COGS 118B - Final Project"
   ]
  },
  {
   "cell_type": "markdown",
   "metadata": {},
   "source": [
    "# Apple Stock Price Prediction\n",
    "\n",
    "## Group members\n",
    "\n",
    "- Byung Joon (Alex) Park\n",
    "- Derrick Lin\n",
    "- Jane Lee\n",
    "- Sandra Lin"
   ]
  },
  {
   "cell_type": "markdown",
   "metadata": {},
   "source": [
    "# Abstract \n",
    "This section should be short and clearly stated. It should be a single paragraph <200 words.  It should summarize: \n",
    "- what your goal/problem is\n",
    "- what the data used represents \n",
    "- the solution/what you did\n",
    "- major results you came up with (mention how results are measured) \n",
    "\n",
    "__NB:__ this final project form is much more report-like than the proposal and the checkpoint. Think in terms of writing a paper with bits of code in the middle to make the plots/tables\n",
    "\n",
    "Our goal is to evaluate the effectiveness of unsupervised machine learning in categorizing stocks based on risk-return profiles to optimize investment portfolios. We use historical stock market data, including daily prices, volatility, and financial ratios, to represent stock characteristics. Through clustering techniques and dimensionality reduction, we hope to identify distinct categories that reflect different risk-return dynamics. Additionally, performance will be measured by evaluating portfolio stability compared to traditional methods, which will show us how useful unsupervised learning is for predicting stocks in real-world situations. We offer specific insights into applying unsupervised learning for stock prediction, focusing on Apple Inc's  data from 1980 to 2021."
   ]
  },
  {
   "cell_type": "markdown",
   "metadata": {},
   "source": [
    "# Background\n",
    "\n",
    "Fill in the background and discuss the kind of prior work that has gone on in this research area here. **Use inline citation** to specify which references support which statements.  You can do that through HTML footnotes (demonstrated here). I used to reccommend Markdown footnotes (google is your friend) because they are simpler but recently I have had some problems with them working for me whereas HTML ones always work so far. So use the method that works for you, but do use inline citations.\n",
    "\n",
    "Here is an example of inline citation. After government genocide in the 20th century, real birds were replaced with surveillance drones designed to look just like birds<a name=\"lorenz\"></a>[<sup>[1]</sup>](#lorenznote). Use a minimum of 2 or 3 citations, but we prefer more <a name=\"admonish\"></a>[<sup>[2]</sup>](#admonishnote). You need enough citations to fully explain and back up important facts. \n",
    "\n",
    "Remeber you are trying to explain why someone would want to answer your question or why your hypothesis is in the form that you've stated. \n",
    "\n",
    "\n",
    "**Our Response**:\n",
    "\n",
    "\n",
    "A stock market is a market where people are able to purchase shares from public companies. These shares can help an individual gain profits, the company to raise capital, and provide people a way to invest in companies they believe have potential<a name=\"simplilearn\"></a>[<sup>[1]</sup>](#simplilearn). It is for these reasons that finding a way to predict how stock market prices may change is crucial. \n",
    "\n",
    "The stock market is known to be extremely unpredictable and full of unknown variables, which can influence stock prices one way or another.  For many years, researchers have been working to try to predict stock prices. However, this has been quite difficult with the presence of unexpected variables like the pandemic<a name=\"projectpro\"></a>[<sup>[2]</sup>](#projectpro). Therefore, analysts have instead tried to focus on short term predictions that estimate how the stock market could’ve changed. Since the stock market is so complex considering the many variables influencing its change, AI steps in to help us process these variables. \n",
    "\n",
    "There are already several different types of models used to predict the stock market, and two different ways to analyze the stocks. Fundamental analysis looks at a company stock’s intrinsic value and analyzes historical as well as current data. They are used mainly with long-term investments. Technical analysis looks at measurable data of the stock activities as well as analyzing present and historical data for short-term investments<a name=\"neptuneai\"></a>[<sup>[3]</sup>](#neptuneai). In addition, technical analysis is influenced by current news while fundamental analysis is not really affected by them. In the case of Neptune a.i, they have chosen to use technical analysis with a Long Short Term Memory framework to build a model to predict the stock market. \n",
    "\n",
    "South Dakota State University has also developed their own A.I model, dubbed “ALERTA-NET” where they have incorporated macroeconomic data in their model which have resulted in more accurate predictions<a name=\"sdsu\"></a>[<sup>[4]</sup>](#sdsu). It is examples like these that stand to prove that researchers are still looking to build models that can predict the stock market with higher accuracy. The uncertainty of the stock market makes this task so difficult, and the importance of the stock market in terms of the economy as well as profits makes the pursuit of accurate stock market prediction models so crucial. "
   ]
  },
  {
   "cell_type": "markdown",
   "metadata": {},
   "source": [
    "# Problem Statement\n",
    "\n",
    "Clearly describe the problem that you are solving. Avoid ambiguous words. The problem described should be well defined and should have at least one ML-relevant potential solution. Additionally, describe the problem thoroughly such that it is clear that the problem is quantifiable (the problem can be expressed in mathematical or logical terms), measurable (the problem can be measured by some metric and clearly observed), and replicable (the problem can be reproduced and occurs more than once).\n",
    "\n",
    "**Our Response**:\n",
    "Our objective is to build a machine learning model that predicts Apple's future stock prices for the years 1980 to 2021, using past data from Yahoo Finance. We will use Time Series Analysis and Exploratory Data Analysis (EDA) techniques to identify patterns, trends, and potential factors that influence Apple's historical stock performance. To measure our model's accuracy, we will use Mean Squared Error (MSE) and Root Mean Squared Error (RMSE), which quantify the accuracy of our predictions of actual stock prices. Additionally, our problem is highly replicable in financial markets, where investors and analysts often look for such forecasts to make their decisions. For an ML-relevant solution, we will use time series forecasting models like ARIMA, SARIMA, or LSTM networks. These models will analyze historical stock prices and relevant financial indicators to predict future stock movements."
   ]
  },
  {
   "cell_type": "markdown",
   "metadata": {},
   "source": [
    "# Data\n",
    "\n",
    "Detail how/where you obtained the data and cleaned it (if necessary)\n",
    "\n",
    "If the data cleaning process is very long (e.g., elaborate text processing) consider describing it briefly here in text, and moving the actual clearning process to another notebook in your repo (include a link here!).  The idea behind this approach: this is a report, and if you blow up the flow of the report to include a lot of code it makes it hard to read.\n",
    "\n",
    "Please give the following infomration for each dataset you are using\n",
    "- link/reference to obtain it\n",
    "- description of the size of the dataset (# of variables, # of observations)\n",
    "- what an observation consists of\n",
    "- what some critical variables are, how they are represented\n",
    "- any special handling, transformations, cleaning, etc you have done should be demonstrated here!\n",
    "\n",
    "\n",
    "***Data Description: Apple Inc. Stock Prices (1980-2021)***\n",
    "\n",
    "- We will be using the historical stock prices of Apple, from December 11, 1980, to June 16, 2022. The dataset from Yahoo Finance consists of various metrics, including opening prices, closing prices, high prices, low prices, adjusted closing prices, and trading volumes for each trading day. \n",
    "\n",
    "***Dataset Information:***\n",
    "\n",
    "- Dataset Source: Apple Stock Price (1980-2021) Kaggle Dataset \n",
    "\n",
    "***Dataset Overview:*** \n",
    "\n",
    "- Observations: The dataset has a total of 7 variables and 10,500 observations, where each observation represents daily stock metrics for Apple Inc. \n",
    "\n",
    "***Enhancing the analysis:*** \n",
    "\n",
    "- Data Cleaning and Transformation: We may conduct data cleaning, handling missing values, and outliers, and ensuring the temporal integrity of the dataset for time-series analysis.\n",
    "- Normalize Prices: Standardize price data to easily compare volatility and returns across different stocks. This involves expressing price changes as percentages.\n",
    "- Adjust Stock Names: Use official names instead of tickers for better readability in reports. \n",
    "- Explore daily trading patterns in the dataset: Maybe look for more datasets with multiple observations per day for a more detailed analysis of short-term stock volatility. "
   ]
  },
  {
   "cell_type": "code",
   "execution_count": 3,
   "metadata": {},
   "outputs": [
    {
     "ename": "ModuleNotFoundError",
     "evalue": "No module named 'pandas'",
     "output_type": "error",
     "traceback": [
      "\u001b[1;31m---------------------------------------------------------------------------\u001b[0m",
      "\u001b[1;31mModuleNotFoundError\u001b[0m                       Traceback (most recent call last)",
      "\u001b[1;32mc:\\Users\\derri\\OneDrive\\Documents\\GitHub\\group_20\\FinalProject_groupXXX.ipynb Cell 7\u001b[0m line \u001b[0;36m2\n\u001b[0;32m      <a href='vscode-notebook-cell:/c%3A/Users/derri/OneDrive/Documents/GitHub/group_20/FinalProject_groupXXX.ipynb#X15sZmlsZQ%3D%3D?line=0'>1</a>\u001b[0m \u001b[39m# Load the data\u001b[39;00m\n\u001b[1;32m----> <a href='vscode-notebook-cell:/c%3A/Users/derri/OneDrive/Documents/GitHub/group_20/FinalProject_groupXXX.ipynb#X15sZmlsZQ%3D%3D?line=1'>2</a>\u001b[0m \u001b[39mimport\u001b[39;00m \u001b[39mpandas\u001b[39;00m \u001b[39mas\u001b[39;00m \u001b[39mpd\u001b[39;00m\n\u001b[0;32m      <a href='vscode-notebook-cell:/c%3A/Users/derri/OneDrive/Documents/GitHub/group_20/FinalProject_groupXXX.ipynb#X15sZmlsZQ%3D%3D?line=3'>4</a>\u001b[0m df \u001b[39m=\u001b[39m pd\u001b[39m.\u001b[39mread_csv(\u001b[39m'\u001b[39m\u001b[39mAAPL.csv\u001b[39m\u001b[39m'\u001b[39m) \u001b[39m# load the dataset\u001b[39;00m\n\u001b[0;32m      <a href='vscode-notebook-cell:/c%3A/Users/derri/OneDrive/Documents/GitHub/group_20/FinalProject_groupXXX.ipynb#X15sZmlsZQ%3D%3D?line=5'>6</a>\u001b[0m \u001b[39mprint\u001b[39m(df\u001b[39m.\u001b[39mhead())\n",
      "\u001b[1;31mModuleNotFoundError\u001b[0m: No module named 'pandas'"
     ]
    }
   ],
   "source": [
    "# Load the data\n",
    "import pandas as pd\n",
    "\n",
    "df = pd.read_csv('AAPL.csv') # load the dataset\n",
    "\n",
    "print(df.head())"
   ]
  },
  {
   "cell_type": "code",
   "execution_count": null,
   "metadata": {},
   "outputs": [],
   "source": [
    "# Data preprocessing\n",
    "\n",
    "print(df.isnull().sum()) # check for missing values\n"
   ]
  },
  {
   "cell_type": "code",
   "execution_count": null,
   "metadata": {},
   "outputs": [],
   "source": []
  },
  {
   "cell_type": "code",
   "execution_count": null,
   "metadata": {},
   "outputs": [],
   "source": []
  },
  {
   "cell_type": "markdown",
   "metadata": {},
   "source": [
    "# Proposed Solution\n",
    "\n",
    "In this section, clearly describe a solution to the problem. The solution should be applicable to the project domain and appropriate for the dataset(s) or input(s) given. Provide enough detail (e.g., algorithmic description and/or theoretical properties) to convince us that your solution is applicable. Make sure to describe how the solution will be tested.  \n",
    "\n",
    "If you know details already, describe how (e.g., library used, function calls) you plan to implement the solution in a way that is reproducible.\n",
    "\n",
    "If it is appropriate to the problem statement, describe a benchmark model<a name=\"sota\"></a>[<sup>[3]</sup>](#sotanote) against which your solution will be compared. \n",
    "\n",
    "**Solution Overview:**\n",
    "\n",
    "Our solution aims to predict stock price movements using primarily unsupervised machine learning techniques. The focus will be on exploring the underlying patterns and structures in the stock market data without relying on labeled outcomes. The insights gained from unsupervised learning will then be used to inform a simple supervised model for price prediction.\n",
    "\n",
    "**Unsupervised Learning for Feature Extraction and Analysis**\n",
    "\n",
    "1. **Clustering for Market Segmentation**: We will use clustering algorithms, such as K-means and DBSCAN, to segment stocks based on historical price movements, trading volume, and other financial indicators. This will help us identify groups of stocks with similar behavior.\n",
    "\n",
    "2. **Dimensionality Reduction**: Principal Component Analysis (PCA) and t-Distributed Stochastic Neighbor Embedding (t-SNE) will be applied to reduce the dimensionality of the data while preserving its structure. This will assist in visualizing the stock market data and identifying key features.\n",
    "\n",
    "3. **Association Rule Mining**: We will explore association rule mining to uncover relationships between different stocks or financial indicators. This can reveal interesting patterns, such as stocks that tend to move together.\n",
    "\n",
    "4. **Anomaly Detection**: Techniques like Isolation Forest and One-Class SVM will be used to detect anomalies in the stock market data, which could indicate potential market disruptions or opportunities.\n",
    "\n",
    "**Supervised Learning for Price Prediction**\n",
    "\n",
    "After extracting insights and features using unsupervised techniques, we will employ a simple supervised learning model to predict stock price movements:\n",
    "\n",
    "1. **Logistic Regression**: Based on the features and patterns identified through unsupervised learning, we will use logistic regression to predict whether a stock's price will go up or down in the next trading period.\n",
    "\n",
    "**Model Evaluation**\n",
    "\n",
    "We will evaluate the performance of our unsupervised models using metrics such as silhouette score (for clustering quality) and reconstruction error (for dimensionality reduction). The supervised logistic regression model will be evaluated using accuracy, precision, recall, and F1 score.\n",
    "\n",
    "**Implementation Details**\n",
    "\n",
    "We plan to implement our solution using Python, with libraries such as `scikit-learn` for machine learning algorithms, `pandas` for data manipulation, and `matplotlib` and `seaborn` for data visualization. The implementation will include:\n",
    "\n",
    "1. **Data Preprocessing**: Loading the dataset, handling missing values, and normalizing the features.\n",
    "2. **Unsupervised Learning**: Applying clustering, dimensionality reduction, association rule mining, and anomaly detection techniques.\n",
    "3. **Feature Selection**: Selecting relevant features based on insights from unsupervised learning.\n",
    "4. **Supervised Learning**: Training and evaluating the logistic regression model.\n",
    "5. **Model Evaluation**: Assessing the performance of both unsupervised and supervised models.\n",
    "\n",
    "**Benchmark Model**\n",
    "\n",
    "For benchmarking, we will compare our unsupervised learning insights and logistic regression predictions against a simple moving average model, which is a common baseline in stock price prediction."
   ]
  },
  {
   "cell_type": "markdown",
   "metadata": {},
   "source": [
    "# Evaluation Metrics\n",
    "\n",
    "Propose at least one evaluation metric that can be used to quantify the performance of both the benchmark model and the solution model. The evaluation metric(s) you propose should be appropriate given the context of the data, the problem statement, and the intended solution. Describe how the evaluation metric(s) are derived and provide an example of their mathematical representations (if applicable). Complex evaluation metrics should be clearly defined and quantifiable (can be expressed in mathematical or logical terms).\n",
    "\n",
    "**Evaluation Metrics:**\n",
    "\n",
    "To quantify the performance of our machine learning models in predicting stock prices and categorizing stocks based on risk-return profiles, we will use the following evaluation metrics:\n",
    "\n",
    "1. **Silhouette Score**: This metric will be used to evaluate the quality of the clusters formed by our unsupervised learning algorithms. It measures how similar an object is to its own cluster compared to other clusters. The Silhouette Score ranges from -1 to 1, where a high value indicates that the object is well matched to its own cluster and poorly matched to neighboring clusters.\n",
    "\n",
    "   - Mathematical representation:\n",
    "     $$\n",
    "     s(i) = \\frac{b(i) - a(i)}{\\max\\{a(i), b(i)\\}}\n",
    "     $$\n",
    "     where $a(i)$ is the average distance from the $i$-th object to the other objects in the same cluster, and $b(i)$ is the minimum average distance from the $i$-th object to objects in a different cluster.\n",
    "\n",
    "2. **Mean Squared Error (MSE)**: For the supervised learning model that predicts stock prices, we will use MSE to measure the average of the squares of the errors between the predicted and actual prices. It is a common metric for regression models.\n",
    "\n",
    "   - Mathematical representation:\n",
    "     $$\n",
    "     \\text{MSE} = \\frac{1}{n} \\sum_{i=1}^{n} (y_i - \\hat{y}_i)^2\n",
    "     $$\n",
    "     where $y_i$ is the actual stock price and $\\hat{y}_i$ is the predicted stock price.\n",
    "\n",
    "3. **Root Mean Squared Error (RMSE)**: RMSE is the square root of MSE and provides a measure of the average error in the same units as the stock prices. It is useful for comparing the performance of different models.\n",
    "\n",
    "   - Mathematical representation:\n",
    "     $$\n",
    "     \\text{RMSE} = \\sqrt{\\text{MSE}}\n",
    "     $$\n",
    "\n",
    "4. **Portfolio Stability**: To evaluate the effectiveness of the unsupervised learning approach in optimizing investment portfolios, we will compare the stability of portfolios constructed based on the identified stock categories with those constructed using traditional methods. Portfolio stability can be measured in terms of the variance of portfolio returns over time.\n",
    "\n",
    "   - Mathematical representation:\n",
    "     $$\n",
    "     \\text{Portfolio Stability} = \\text{Var}(R_p)\n",
    "     $$\n",
    "     where $R_p$ is the return of the portfolio."
   ]
  },
  {
   "cell_type": "markdown",
   "metadata": {},
   "source": [
    "# Results\n",
    "\n",
    "You may have done tons of work on this. Not all of it belongs here. \n",
    "\n",
    "Reports should have a __narrative__. Once you've looked through all your results over the quarter, decide on one main point and 2-4 secondary points you want us to understand. Include the detailed code and analysis results of those points only; you should spend more time/code/plots on your main point than the others.\n",
    "\n",
    "If you went down any blind alleys that you later decided to not pursue, please don't abuse the TAs time by throwing in 81 lines of code and 4 plots related to something you actually abandoned.  Consider deleting things that are not important to your narrative.  If its slightly relevant to the narrative or you just want us to know you tried something, you could keep it in by summarizing the result in this report in a sentence or two, moving the actual analysis to another file in your repo, and providing us a link to that file.\n",
    "\n",
    "### Subsection 1\n",
    "\n",
    "You will likely have different subsections as you go through your report. For instance you might start with an analysis of the dataset/problem and from there you might be able to draw out the kinds of algorithms that are / aren't appropriate to tackle the solution.  Or something else completely if this isn't the way your project works.\n",
    "\n",
    "### Subsection 2\n",
    "\n",
    "Another likely section is if you are doing any feature selection through cross-validation or hand-design/validation of features/transformations of the data\n",
    "\n",
    "### Subsection 3\n",
    "\n",
    "Probably you need to describe the base model and demonstrate its performance.  Maybe you include a learning curve to show whether you have enough data to do train/validate/test split or have to go to k-folds or LOOCV or ???\n",
    "\n",
    "### Subsection 4\n",
    "\n",
    "Perhaps some exploration of the model selection (hyper-parameters) or algorithm selection task. Validation curves, plots showing the variability of perfromance across folds of the cross-validation, etc. If you're doing one, the outcome of the null hypothesis test or parsimony principle check to show how you are selecting the best model.\n",
    "\n",
    "### Subsection 5 \n",
    "\n",
    "Maybe you do model selection again, but using a different kind of metric than before?\n",
    "\n"
   ]
  },
  {
   "cell_type": "markdown",
   "metadata": {},
   "source": [
    "# Discussion\n",
    "\n",
    "### Interpreting the result\n",
    "\n",
    "OK, you've given us quite a bit of tech informaiton above, now its time to tell us what to pay attention to in all that.  Think clearly about your results, decide on one main point and 2-4 secondary points you want us to understand. Highlight HOW your results support those points.  You probably want 2-5 sentences per point.\n",
    "\n",
    "### Limitations\n",
    "\n",
    "Are there any problems with the work?  For instance would more data change the nature of the problem? Would it be good to explore more hyperparams than you had time for?   \n",
    "\n",
    "### Ethics & Privacy\n",
    "\n",
    "If your project has obvious potential concerns with ethics or data privacy discuss that here.  Almost every ML project put into production can have ethical implications if you use your imagination. Use your imagination.\n",
    "\n",
    "Even if you can't come up with an obvious ethical concern that should be addressed, you should know that a large number of ML projects that go into producation have unintended consequences and ethical problems once in production. How will your team address these issues?\n",
    "\n",
    "Consider a tool to help you address the potential issues such as https://deon.drivendata.org\n",
    "\n",
    "**Ethics and Privacy:**\n",
    "\n",
    "In developing a machine learning model to predict stock prices, we are committed to upholding the highest ethical standards and ensuring the privacy and security of the data used. Our approach is guided by the following principles:\n",
    "\n",
    "- **Data Source Transparency:** We will only use publicly available financial data from reputable sources, such as stock exchanges, financial news websites, and government reports. We will clearly document the sources of our data to ensure transparency and accountability.\n",
    "\n",
    "- **Anonymity and Privacy:** While stock market data is generally anonymized and does not contain personal information, we will rigorously review the datasets to ensure that there is no indirect way to identify individuals or private entities. Any data that could potentially lead to identification will be further anonymized or excluded from our analysis.\n",
    "\n",
    "- **Informed Consent:** For any data that may involve individual contributors or proprietary information, we will ensure that informed consent has been obtained. This includes clear communication about the purpose of the data collection and the intended use of the data in our project.\n",
    "\n",
    "- **Bias and Fairness:** We recognize that financial markets can be influenced by a wide range of factors, including economic, political, and social elements. We will critically assess our model for any biases that may arise from the data or the algorithms used. Efforts will be made to ensure that our predictions do not inadvertently favor or disadvantage any particular group or individual.\n",
    "\n",
    "- **Responsible Use of Predictions:** We are aware of the potential impact that stock price predictions can have on individuals, companies, and the economy. Our project is intended for academic purposes and should not be used as financial advice. We will clearly communicate the limitations and uncertainties of our predictions to prevent misuse or overreliance on our model.\n",
    "\n",
    "- **Compliance with Regulations:** We will adhere to all relevant laws and regulations related to financial data and securities trading. This includes respecting insider trading laws and ensuring that our project does not contribute to market manipulation or other unethical practices.\n",
    "\n",
    "By adhering to these principles, we aim to conduct our project with integrity and respect for the privacy and rights of all stakeholders involved.\n",
    "\n",
    "### Conclusion\n",
    "\n",
    "Reiterate your main point and in just a few sentences tell us how your results support it. Mention how this work would fit in the background/context of other work in this field if you can. Suggest directions for future work if you want to."
   ]
  },
  {
   "cell_type": "markdown",
   "metadata": {},
   "source": [
    "# Footnotes\n",
    "<a name=\"lorenznote\"></a>1.[^](#simplilearn): Biswal, Avijeet (2023) *Stock Price Prediction using Machine Learning* https://www.simplilearn.com/tutorials/machine-learning-tutorial/stock-price-prediction-using-machine-learning#what_is_the_stock_market<br> \n",
    "<a name=\"admonishnote\"></a>2.[^](#projectpro): Raval, Param (2024) *Stock Price Predicition using Machine Learning with Source Code* https://www.projectpro.io/article/stock-price-prediction-using-machine-learning-project/571<br>\n",
    "<a name=\"sotanote\"></a>3.[^](#neptuneai): Li, Katherene (2023) *Predicting Stock Prices using Machine Learning* \n",
    "\n",
    "<a name=\"MEETNAGADIA\"></a>4.[^](#sdsu): Dehaven, Addison (2023) *SDSU researchers develop AI-powered model to predict stock market trends* https://www.sdstate.edu/news/2023/11/sdsu-researchers-develop-ai-powered-model-predict-stock-market-trends \n"
   ]
  },
  {
   "cell_type": "code",
   "execution_count": null,
   "metadata": {},
   "outputs": [],
   "source": []
  }
 ],
 "metadata": {
  "kernelspec": {
   "display_name": "Python 3 (ipykernel)",
   "language": "python",
   "name": "python3"
  },
  "language_info": {
   "codemirror_mode": {
    "name": "ipython",
    "version": 3
   },
   "file_extension": ".py",
   "mimetype": "text/x-python",
   "name": "python",
   "nbconvert_exporter": "python",
   "pygments_lexer": "ipython3",
   "version": "3.11.8"
  }
 },
 "nbformat": 4,
 "nbformat_minor": 2
}
