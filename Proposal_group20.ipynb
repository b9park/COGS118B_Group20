{
 "cells": [
  {
   "cell_type": "markdown",
   "metadata": {},
   "source": [
    "# COGS 118B - Project Proposal"
   ]
  },
  {
   "cell_type": "markdown",
   "metadata": {},
   "source": [
    "# Names\n",
    "\n",
    "Hopefully your team is at least this good. Obviously you should replace these with your names.\n",
    "\n",
    "- Byung Joon (Alex) Park\n",
    "- Derrick Lin\n",
    "- Jane Lee\n",
    "- Sandra Lin"
   ]
  },
  {
   "cell_type": "markdown",
   "metadata": {},
   "source": [
    "# Abstract \n",
    "Our goal is to evaluate the effectiveness of unsupervised machine learning in categorizing stocks based on risk-return profiles to optimize investment portfolios. We use historical stock market data, including daily prices, volatility, and financial ratios, to represent stock characteristics. Through clustering techniques and dimensionality reduction, we hope to identify distinct categories that reflect different risk-return dynamics. Additionally, performance will be measured by evaluating portfolio stability compared to traditional methods, which will show us how useful unsupervised learning is for predicting stocks in real-world situations. We offer specific insights into applying unsupervised learning for stock prediction, focusing on Apple Inc's  data from 1980 to 2021.\n"
   ]
  },
  {
   "cell_type": "markdown",
   "metadata": {},
   "source": [
    "# Background\n",
    "\n",
    "Fill in the background and discuss the kind of prior work that has gone on in this research area here. **Use inline citation** to specify which references support which statements.  You can do that through HTML footnotes (demonstrated here). I used to reccommend Markdown footnotes (google is your friend) because they are simpler but recently I have had some problems with them working for me whereas HTML ones always work so far. So use the method that works for you, but do use inline citations.\n",
    "\n",
    "Here is an example of inline citation. After government genocide in the 20th century, real birds were replaced with surveillance drones designed to look just like birds<a name=\"lorenz\"></a>[<sup>[1]</sup>](#lorenznote). Use a minimum of 2 or 3 citations, but we prefer more <a name=\"admonish\"></a>[<sup>[2]</sup>](#admonishnote). You need enough citations to fully explain and back up important facts. \n",
    "\n",
    "Remeber you are trying to explain why someone would want to answer your question or why your hypothesis is in the form that you've stated. "
   ]
  },
  {
   "cell_type": "markdown",
   "metadata": {},
   "source": [
    "# Problem Statement\n",
    "\n",
    "Clearly describe the problem that you are solving. Avoid ambiguous words. The problem described should be well defined and should have at least one ML-relevant potential solution. Additionally, describe the problem thoroughly such that it is clear that the problem is quantifiable (the problem can be expressed in mathematical or logical terms), measurable (the problem can be measured by some metric and clearly observed), and replicable (the problem can be reproduced and occurs more than once)."
   ]
  },
  {
   "cell_type": "markdown",
   "metadata": {},
   "source": [
    "# Data\n",
    "\n",
    "You should have a strong idea of what dataset(s) will be used to accomplish this project. \n",
    "\n",
    "If you know what (some) of the data you will use, please give the following information for each dataset:\n",
    "- link/reference to obtain it\n",
    "- description of the size of the dataset (# of variables, # of observations)\n",
    "- what an observation consists of\n",
    "- what some critical variables are, how they are represented\n",
    "- any special handling, transformations, cleaning, etc will be needed\n",
    "\n",
    "If you don't yet know what your dataset(s) will be, you should describe what you desire in terms of the above bullets."
   ]
  },
  {
   "cell_type": "markdown",
   "metadata": {},
   "source": [
    "# Proposed Solution\n",
    "\n",
    "In this section, clearly describe a solution to the problem. The solution should be applicable to the project domain and appropriate for the dataset(s) or input(s) given. Provide enough detail (e.g., algorithmic description and/or theoretical properties) to convince us that your solution is applicable. Why might your solution work? Make sure to describe how the solution will be tested.  \n",
    "\n",
    "If you know details already, describe how (e.g., library used, function calls) you plan to implement the solution in a way that is reproducible.\n",
    "\n",
    "If it is appropriate to the problem statement, describe a benchmark model<a name=\"sota\"></a>[<sup>[3]</sup>](#sotanote) against which your solution will be compared. \n",
    "\n",
    "**Solution Overview:**\n",
    "\n",
    "Our solution aims to predict stock price movements using primarily unsupervised machine learning techniques. The focus will be on exploring the underlying patterns and structures in the stock market data without relying on labeled outcomes. The insights gained from unsupervised learning will then be used to inform a simple supervised model for price prediction.\n",
    "\n",
    "**Unsupervised Learning for Feature Extraction and Analysis**\n",
    "\n",
    "1. **Clustering for Market Segmentation**: We will use clustering algorithms, such as K-means and DBSCAN, to segment stocks based on historical price movements, trading volume, and other financial indicators. This will help us identify groups of stocks with similar behavior.\n",
    "\n",
    "2. **Dimensionality Reduction**: Principal Component Analysis (PCA) and t-Distributed Stochastic Neighbor Embedding (t-SNE) will be applied to reduce the dimensionality of the data while preserving its structure. This will assist in visualizing the stock market data and identifying key features.\n",
    "\n",
    "3. **Association Rule Mining**: We will explore association rule mining to uncover relationships between different stocks or financial indicators. This can reveal interesting patterns, such as stocks that tend to move together.\n",
    "\n",
    "4. **Anomaly Detection**: Techniques like Isolation Forest and One-Class SVM will be used to detect anomalies in the stock market data, which could indicate potential market disruptions or opportunities.\n",
    "\n",
    "**Supervised Learning for Price Prediction**\n",
    "\n",
    "After extracting insights and features using unsupervised techniques, we will employ a simple supervised learning model to predict stock price movements:\n",
    "\n",
    "1. **Logistic Regression**: Based on the features and patterns identified through unsupervised learning, we will use logistic regression to predict whether a stock's price will go up or down in the next trading period.\n",
    "\n",
    "**Model Evaluation**\n",
    "\n",
    "We will evaluate the performance of our unsupervised models using metrics such as silhouette score (for clustering quality) and reconstruction error (for dimensionality reduction). The supervised logistic regression model will be evaluated using accuracy, precision, recall, and F1 score.\n",
    "\n",
    "**Implementation Details**\n",
    "\n",
    "We plan to implement our solution using Python, with libraries such as `scikit-learn` for machine learning algorithms, `pandas` for data manipulation, and `matplotlib` and `seaborn` for data visualization. The implementation will include:\n",
    "\n",
    "1. **Data Preprocessing**: Loading the dataset, handling missing values, and normalizing the features.\n",
    "2. **Unsupervised Learning**: Applying clustering, dimensionality reduction, association rule mining, and anomaly detection techniques.\n",
    "3. **Feature Selection**: Selecting relevant features based on insights from unsupervised learning.\n",
    "4. **Supervised Learning**: Training and evaluating the logistic regression model.\n",
    "5. **Model Evaluation**: Assessing the performance of both unsupervised and supervised models.\n",
    "\n",
    "**Benchmark Model**\n",
    "\n",
    "For benchmarking, we will compare our unsupervised learning insights and logistic regression predictions against a simple moving average model, which is a common baseline in stock price prediction."
   ]
  },
  {
   "cell_type": "markdown",
   "metadata": {},
   "source": [
    "# Evaluation Metrics\n",
    "\n",
    "Propose at least one evaluation metric that can be used to quantify the performance of both the benchmark model and the solution model. The evaluation metric(s) you propose should be appropriate given the context of the data, the problem statement, and the intended solution. Describe how the evaluation metric(s) are derived and provide an example of their mathematical representations (if applicable). Complex evaluation metrics should be clearly defined and quantifiable (can be expressed in mathematical or logical terms)."
   ]
  },
  {
   "cell_type": "markdown",
   "metadata": {},
   "source": [
    "# Ethics & Privacy"
   ]
  },
  {
   "cell_type": "markdown",
   "metadata": {},
   "source": [
    "If your project has obvious potential concerns with ethics or data privacy discuss that here.  Almost every ML project put into production can have ethical implications if you use your imagination. Use your imagination. Get creative!\n",
    "\n",
    "Even if you can't come up with an obvious ethical concern that should be addressed, you should know that a large number of ML projects that go into producation have unintended consequences and ethical problems once in production. How will your team address these issues?\n",
    "\n",
    "Consider a tool to help you address the potential issues such as https://deon.drivendata.org\n",
    "\n",
    "**Ethics and Privacy:**\n",
    "\n",
    "In developing a machine learning model to predict stock prices, we are committed to upholding the highest ethical standards and ensuring the privacy and security of the data used. Our approach is guided by the following principles:\n",
    "\n",
    "- **Data Source Transparency:** We will only use publicly available financial data from reputable sources, such as stock exchanges, financial news websites, and government reports. We will clearly document the sources of our data to ensure transparency and accountability.\n",
    "\n",
    "- **Anonymity and Privacy:** While stock market data is generally anonymized and does not contain personal information, we will rigorously review the datasets to ensure that there is no indirect way to identify individuals or private entities. Any data that could potentially lead to identification will be further anonymized or excluded from our analysis.\n",
    "\n",
    "- **Informed Consent:** For any data that may involve individual contributors or proprietary information, we will ensure that informed consent has been obtained. This includes clear communication about the purpose of the data collection and the intended use of the data in our project.\n",
    "\n",
    "- **Bias and Fairness:** We recognize that financial markets can be influenced by a wide range of factors, including economic, political, and social elements. We will critically assess our model for any biases that may arise from the data or the algorithms used. Efforts will be made to ensure that our predictions do not inadvertently favor or disadvantage any particular group or individual.\n",
    "\n",
    "- **Responsible Use of Predictions:** We are aware of the potential impact that stock price predictions can have on individuals, companies, and the economy. Our project is intended for academic purposes and should not be used as financial advice. We will clearly communicate the limitations and uncertainties of our predictions to prevent misuse or overreliance on our model.\n",
    "\n",
    "- **Compliance with Regulations:** We will adhere to all relevant laws and regulations related to financial data and securities trading. This includes respecting insider trading laws and ensuring that our project does not contribute to market manipulation or other unethical practices.\n",
    "\n",
    "By adhering to these principles, we aim to conduct our project with integrity and respect for the privacy and rights of all stakeholders involved.\n",
    "\n"
   ]
  },
  {
   "cell_type": "markdown",
   "metadata": {},
   "source": [
    "# Team Expectations "
   ]
  },
  {
   "cell_type": "markdown",
   "metadata": {},
   "source": [
    "Put things here that cement how you will interact/communicate as a team, how you will handle conflict and difficulty, how you will handle making decisions and setting goals/schedule, how much work you expect from each other, how you will handle deadlines, etc...\n",
    "* *Team Expectation 1:* **Each team member will actively contribute to the research, data collection, analysis, and reporting.**\n",
    "* *Team Expectation 2:* **Regular and open communication within the team, addressing any issues or concerns respectfully and promptly.**\n",
    "* *Team Expectation 3:* **Meeting project milestones and deadlines, with shared responsibility for different aspects of the project.**\n",
    "* *Team Expectation 4:* **Each team member should only miss 1-2 meetings.**\n",
    "* *Team Expectation 5:* **When conflicts arise, team members will note this and have everyone take a vote on which side to pick.**"
   ]
  },
  {
   "cell_type": "markdown",
   "metadata": {},
   "source": [
    "# Project Timeline Proposal"
   ]
  },
  {
   "cell_type": "markdown",
   "metadata": {},
   "source": [
    "| Meeting Date  | Meeting Time| Completed Before Meeting  | Discuss at Meeting |\n",
    "|---|---|---|---|\n",
    "| 2/13  |  4 PM |  Read & Think about COGS 118B expectations; brainstorm topics/questions  | Finalize methodology: Plan to use available datasets on specific stocks like Apple Inc. for analysis; Orchestrate the contributions of each individual within the group.| \n",
    "| 2/20  |  4 PM |  Clean data: potential missing values, outliers, and ensure data consistency. | Discuss ideal datasets and ethics; submit project proposal | \n",
    "| 2/27  | 10 AM  | Explore initial relationships: Identify any noticeable associations from 1980 to 2021 datasets. | Conduct regression: Perform analysis to assess the impact of daily base stock movements while controlling for relevant variables.|\n",
    "| 3/5   |  4 PM | Prepare report: Compile findings, methodology, and conclusions into a succinct report. | Review/Edit wrangling/EDA; Discuss Analysis Plan   |\n",
    "| 3/12  |  4 PM | Finalize wrangling/EDA; Begin programming for project | Discuss/edit project code; Complete project |\n",
    "| 3/19  |  4 PM | Complete analysis; Draft results/conclusion/discussion | Discuss/edit full project |\n",
    "| 3/20  | Before 10 PM  | NA | Turn in Final Project  |"
   ]
  },
  {
   "cell_type": "markdown",
   "metadata": {},
   "source": [
    "# Footnotes\n",
    "<a name=\"lorenznote\"></a>1.[^](#lorenz): Lorenz, T. (9 Dec 2021) Birds Aren’t Real, or Are They? Inside a Gen Z Conspiracy Theory. *The New York Times*. https://www.nytimes.com/2021/12/09/technology/birds-arent-real-gen-z-misinformation.html<br> \n",
    "<a name=\"admonishnote\"></a>2.[^](#admonish): Also refs should be important to the background, not some randomly chosen vaguely related stuff. Include a web link if possible in refs as above.<br>\n",
    "<a name=\"sotanote\"></a>3.[^](#sota): Perhaps the current state of the art solution such as you see on [Papers with code](https://paperswithcode.com/sota). Or maybe not SOTA, but rather a standard textbook/Kaggle solution to this kind of problem\n",
    "\n",
    "<a name=\"MEETNAGADIA\"></a>4.[^](#MEET): MEET NAGADIA (2022). Apple Stock Price from 1980-2021 (Version V3) [Dataset] https://www.kaggle.com/datasets/meetnagadia/apple-stock-price-from-19802021?resource=download\n"
   ]
  },
  {
   "cell_type": "code",
   "execution_count": null,
   "metadata": {},
   "outputs": [],
   "source": []
  }
 ],
 "metadata": {
  "kernelspec": {
   "display_name": "Python 3 (ipykernel)",
   "language": "python",
   "name": "python3"
  },
  "language_info": {
   "codemirror_mode": {
    "name": "ipython",
    "version": 3
   },
   "file_extension": ".py",
   "mimetype": "text/x-python",
   "name": "python",
   "nbconvert_exporter": "python",
   "pygments_lexer": "ipython3",
   "version": "3.9.13"
  }
 },
 "nbformat": 4,
 "nbformat_minor": 2
}
